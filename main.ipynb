{
 "cells": [
  {
   "cell_type": "code",
   "execution_count": 1,
   "id": "1fa4cd03",
   "metadata": {},
   "outputs": [
    {
     "name": "stdout",
     "output_type": "stream",
     "text": [
      "david\n"
     ]
    }
   ],
   "source": [
    "print(\"david\")"
   ]
  },
  {
   "cell_type": "code",
   "execution_count": 2,
   "id": "de26bd48",
   "metadata": {},
   "outputs": [],
   "source": [
    "from tkinter import *\n",
    "\n",
    "class ChessBoard:\n",
    "    def __init__(self, width=500, height=500):\n",
    "        self.__width = width\n",
    "        self.__height = height\n",
    "        self.__boxSize = int((self.__width + self.__height)/20)\n",
    "        win = Tk()\n",
    "        win.title(\"Displaying a ChessBoard\")\n",
    "        win.geometry(f\"{width}x{height}\")\n",
    "        win.resizable(False, False)\n",
    "        self.canvas = Canvas(win)\n",
    "        self.canvas.pack(fill=BOTH, expand=1)\n",
    "        for i in range(0, height, self.__boxSize):\n",
    "            for j in range(0, width, self.__boxSize):\n",
    "                if (i+j)%(self.__boxSize*2) == 0: \n",
    "                    self.canvas.create_rectangle(i, j, i+self.__boxSize, j+self.__boxSize, fill=\"Black\", tag=\"rectangles\", outline=\"Black\")\n",
    "                else:\n",
    "                    self.canvas.create_rectangle(i, j, i+self.__boxSize, j+self.__boxSize, fill=\"Red\", tag=\"rectangles\", outline=\"Black\")\n",
    "        win.mainloop()\n",
    "if __name__ == \"__main__\":\n",
    "    ChessBoard()"
   ]
  },
  {
   "cell_type": "code",
   "execution_count": 71,
   "id": "ea5372f9",
   "metadata": {},
   "outputs": [
    {
     "name": "stdout",
     "output_type": "stream",
     "text": [
      "50\n"
     ]
    }
   ],
   "source": [
    "print(150%100)\n",
    "\n",
    "Questions = {\"1. What is python?________ \" : \"A\",\n",
    "             \"2. Who invented Python?________ \": \"C\",\n",
    "             \"3. What is your First name?________ \": 'B',\n",
    "             \"4. How old are you?________ \":\"D\",\n",
    "             \"5. Are you a professional in python?_______ \": \"A\"\n",
    "          }\n",
    "\n",
    "\n",
    "questionOptions = [(\"A. An OOP oriented programminglanguage\", 'B. A version control system', \"C. A machine language\", \"D. An assembly language\"),\n",
    "        (\"A. David Beckham\", 'B. James Gosling', \"C. Guido van ransum\", \"D. Eric Cantonal\"),\n",
    "        (\"A. David\", 'B. Prince', \"C. Okeke\", \"D. Alex\"),\n",
    "        (\"A. 20\", 'B. 22', \"C. 18\", \"D. 18\"),\n",
    "        (\"A. Yes\", 'B. No', \"C. Maybe\", \"D. None of the above\"),\n",
    "       ]\n",
    "\n",
    "def calculateScore(ans, guesses):\n",
    "    pass\n",
    "    "
   ]
  },
  {
   "cell_type": "code",
   "execution_count": 88,
   "id": "f3368ef4",
   "metadata": {},
   "outputs": [],
   "source": [
    "class Quiz:\n",
    "    correctCount = 0\n",
    "    def __init__(self):\n",
    "        self.__guesses = []\n",
    "        self.questionNumber = 1\n",
    "        self.options = (\"A\", \"B\", \"C\", \"D\")\n",
    "#         self.__userAnswers = [\" \" for i in range(len(Questions))]\n",
    "        win = Tk()\n",
    "        self.__userAnswers = [IntVar() for x in range(len(Questions))] \n",
    "        frame1 = Frame(win)\n",
    "        frame1.grid()\n",
    "        for question in Questions:\n",
    "            Label(frame1, text=question, font=('Times', 10, \"bold\"), anchor=\"w\").pack()\n",
    "            for optionindex in range(len(questionOptions[self.questionNumber -1])):\n",
    "                rd = Radiobutton(frame1, text=self.options[optionindex], variable=self.__userAnswers[optionindex], font=('Times', 10),value=self.options.index(self.options[optionindex]), anchor=\"nw\", command=self.getGuesses)\n",
    "                rd.pack(fill=BOTH)\n",
    "#                 rd.deselect()  \n",
    "            self.questionNumber += 1\n",
    "        win.mainloop()\n",
    "        \n",
    "    def getGuesses(self):\n",
    "#         self.__guesses.append(self.optionLetter.get())\n",
    "        pass\n",
    "#         print(self.__guesses)\n",
    "        \n",
    "    def tickAnswer(self):\n",
    "        pass\n",
    "if __name__ == \"__main__\":\n",
    "    Quiz()"
   ]
  },
  {
   "cell_type": "code",
   "execution_count": 101,
   "id": "6e22f4ba",
   "metadata": {},
   "outputs": [],
   "source": [
    "class Quiz:\n",
    "    correctCount = 0\n",
    "    def __init__(self):\n",
    "        self.__guesses = []\n",
    "        self.questionNumber = 1\n",
    "        self.optionsLetters = (\"A\", \"B\", \"C\", \"D\")\n",
    "        win = Tk()\n",
    "        self.__userAnswers = [IntVar() for i in range(len(Questions))]\n",
    "        for questions in Questions:\n",
    "            frame = Frame(win, width=50)\n",
    "            Label(frame, text=questions, font=('Times', 10, \"bold\"), anchor='nw').pack(side=LEFT)\n",
    "            for i in range(len(questionOptions[self.questionNumber -1])):\n",
    "                Radiobutton(frame, text=questionOptions[self.questionNumber -1][i], variable=self.__userAnswers[self.questionNumber-1], value=i+1, anchor='nw').pack(fill=BOTH)\n",
    "            frame.pack(fill=BOTH)\n",
    "            self.questionNumber+=1\n",
    "            \n",
    "        frame1 = Frame(win, bd=2, relief=RIDGE)\n",
    "        Button(frame1, text=\"Submit\", relief=RAISED, bd=2).pack()\n",
    "        frame1.pack(fill=BOTH)\n",
    "        win.mainloop()\n",
    "        \n",
    "    def getGuesses(self):\n",
    "#         self.__guesses.append(self.optionLetter.get())\n",
    "        pass\n",
    "#         print(self.__guesses)\n",
    "        \n",
    "    def tickAnswer(self):\n",
    "        pass\n",
    "if __name__ == \"__main__\":\n",
    "    Quiz()"
   ]
  },
  {
   "cell_type": "code",
   "execution_count": 93,
   "id": "d8bbd978",
   "metadata": {},
   "outputs": [],
   "source": [
    "# print(Questions[0])\n",
    "\n",
    "win = Tk()\n",
    "\n",
    "answer1 = StringVar()\n",
    "names =[\" tunde\", 'bola', 'Nola', 'musa']\n",
    "for i in range(4):\n",
    "    Radiobutton(win, variable=answer,  text=f'{names[i]}', value=names[i]).pack()\n",
    "win.mainloop()\n",
    "\n"
   ]
  },
  {
   "cell_type": "code",
   "execution_count": 7,
   "id": "be0a0837",
   "metadata": {},
   "outputs": [
    {
     "name": "stdout",
     "output_type": "stream",
     "text": [
      "Do you want to to play a game(yes/no): no\n"
     ]
    }
   ],
   "source": [
    "import random \n",
    "import time \n",
    "grid = [[\"\" for j in range(3)] for i in range(3)]\n",
    "letters = [\"X\", \"O\"] \n",
    "\n",
    "def nextTurn(r, c, p, grid):\n",
    "    global player\n",
    "    if grid[r][c] == \"\" and checkWinner() is False:\n",
    "        if player == p[0]:\n",
    "            grid[r][c] = player\n",
    "            if checkWinner() is False:\n",
    "                player = p[1]\n",
    "                print(\"its player\", l[1], \"turn\")\n",
    "            elif checkWinner() is True:\n",
    "                print(\"its player\", l[0], \"wins\")\n",
    "            else:\n",
    "                print(\"its a tie\")\n",
    "        else:\n",
    "            grid[r][c] = player\n",
    "            if checkWinner() is False:\n",
    "                player = p[0]\n",
    "                print(\"its player\", l[0], \"turn\")\n",
    "            elif checkWinner() is True:\n",
    "                print(\"its player\", l[1], \"wins\")\n",
    "            else:\n",
    "                print(\"its a tie\")\n",
    "                \n",
    "def printGameGrid(grid, player):\n",
    "    for row in grid:\n",
    "        print(\"________________\")\n",
    "        print(\"| \", \" |  \".join(row), \"|\")\n",
    "    print(\"________________\")   \n",
    "    \n",
    "def isGridValid():\n",
    "    space = 9\n",
    "    for row in grid:\n",
    "        for value in row:\n",
    "            if value != \"\":\n",
    "                space -=1\n",
    "    if space ==0:\n",
    "        return True\n",
    "    else:\n",
    "        return False\n",
    "               \n",
    "def checkWinner():\n",
    "    global grid\n",
    "    for i in range(3):\n",
    "        if grid[i][0] == grid[i][1] == grid[i][1] != \"\":\n",
    "            return True\n",
    "        \n",
    "    for j in range(3):\n",
    "        if grid[0][j] == grid[1][j] == grid[j][0] != \"\":\n",
    "            return True\n",
    "        \n",
    "    if grid[0][0] == grid[1][1] == grid[2][2] != \"\":\n",
    "        return True\n",
    "    \n",
    "    elif grid[0][2] == grid[1][1] == grid[2][0] != \"\":\n",
    "        return True\n",
    "    \n",
    "    elif isGridValid():\n",
    "        return \"Tie\"\n",
    "    \n",
    "    else:\n",
    "        False\n",
    "        \n",
    "def game(grid):\n",
    "    global player\n",
    "    player = random.choice(letters)\n",
    "    while not checkerWinner(): \n",
    "        printGameGrid(grid, player)\n",
    "        row = int(input(\"Enter a row (0, 1, or 2) for player {}: \".format(player)))\n",
    "        column = int(input(\"Enter a column (0, 1, or 2) for player {}: \".format(player)))\n",
    "        nextTurn(row, column, letters, grid)\n",
    "                \n",
    "def main():\n",
    "    playing = input(\"Do you want to to play a game(yes/no): \").upper()\n",
    "    if playing != \"YES\":\n",
    "        return \n",
    "    game(grid)\n",
    "\n",
    "if __name__ ==\"__main__\":\n",
    "    main()\n"
   ]
  },
  {
   "cell_type": "code",
   "execution_count": 27,
   "id": "85f471ae",
   "metadata": {},
   "outputs": [
    {
     "name": "stdout",
     "output_type": "stream",
     "text": [
      "[' ', ' ', ' ', ' ', ' ', ' ', ' ', ' ', ' ']\n",
      "|    |    |    |\n",
      "|    |    |    |\n",
      "|    |    |    |\n"
     ]
    }
   ],
   "source": [
    "g = [\" \" for x in range(9)]\n",
    "print(g)\n",
    "seperated  = [g[i: i+3] for i in range(3)]\n",
    "for i in [g[i: i+3] for i in range(0, 9, 3)]:\n",
    "    print(\"| \", \" |  \".join(i), \"|\")\n"
   ]
  },
  {
   "cell_type": "code",
   "execution_count": 28,
   "id": "7db71e15",
   "metadata": {},
   "outputs": [
    {
     "name": "stdout",
     "output_type": "stream",
     "text": [
      "O\n"
     ]
    }
   ],
   "source": [
    "letters = [\"X\", \"O\"]\n",
    "player = random.choice(letters)\n",
    "print(player)"
   ]
  },
  {
   "cell_type": "code",
   "execution_count": 29,
   "id": "f43be1b0",
   "metadata": {},
   "outputs": [],
   "source": [
    "from tkinter import *\n",
    "class SudokuGUI:\n",
    "    def __init__(self):\n",
    "        Win = Tk()\n",
    "        Win.title(\"Sudoku\")\n",
    "        frame = Frame(Win)\n",
    "        frame.pack()\n",
    "        self.entryValues = [[StringVar() for j in range(9)] for i in range(9)]\n",
    "\n",
    "        for i in range(9):\n",
    "            for j in range(9):\n",
    "                Entry(frame, width=2, textvariable=self.entryValues[i][j]).grid(row=i, column=j)\n",
    "        Win.mainloop()\n",
    "if __name__ == \"__main__\":\n",
    "    SudokuGUI()"
   ]
  },
  {
   "cell_type": "code",
   "execution_count": 105,
   "id": "f8a453cc",
   "metadata": {},
   "outputs": [
    {
     "name": "stdout",
     "output_type": "stream",
     "text": [
      "6\n",
      "5\n"
     ]
    }
   ],
   "source": [
    "def Print(*args):\n",
    "    print(max(args))\n",
    "    \n",
    "Print(6, 4, 3)\n",
    "print(max([3, 4, 5]))"
   ]
  },
  {
   "cell_type": "code",
   "execution_count": 5,
   "id": "0e7d22a4",
   "metadata": {},
   "outputs": [
    {
     "name": "stdout",
     "output_type": "stream",
     "text": [
      "300.0\n"
     ]
    }
   ],
   "source": [
    "class Account:\n",
    "    def __init__(self, id=0, initialbalance= 100.0, annualInterestRate=0.0):\n",
    "        self.__id = id\n",
    "        self.__balance = initialbalance\n",
    "        self.__annualInterestRate = annualInterestRate\n",
    "    \n",
    "    def getId(self):\n",
    "        return self.__id\n",
    "    \n",
    "    def getBalance(self):\n",
    "        return self.__balance\n",
    "    \n",
    "    def getAnnualInterestRate(self):\n",
    "        return self.__annualInterestRate\n",
    "    \n",
    "    def setId(self, id):\n",
    "        self.__id = id\n",
    "    \n",
    "    def setBalance(self, b):\n",
    "        self.__balance = b\n",
    "    \n",
    "    def setAnnualInterestRate(self, Ar):\n",
    "        self.__annualInterestRate = Ar\n",
    "        \n",
    "    def getMonthlyInterestRate(self):\n",
    "        MonthlyInterestRate = self.__annualInterestRate/12/100\n",
    "        return  MonthlyInterestRate\n",
    "    \n",
    "    def getMonthlyInterest(self):\n",
    "        return self.__balance * self.getMonthlyInterestRate()\n",
    "    \n",
    "    def withdrawal(self, amountWithdrawn):\n",
    "        self.__balance -= amountWithdrawn\n",
    "    \n",
    "    def deposit(self, amounttodeposit):\n",
    "        self.__balance += amounttodeposit\n",
    "\n",
    "if __name__ == \"__main__\":\n",
    "    a1 = Account()\n",
    "    a1.deposit(200)\n",
    "    print(a1.getBalance())"
   ]
  },
  {
   "cell_type": "code",
   "execution_count": 6,
   "id": "5dbce915",
   "metadata": {},
   "outputs": [
    {
     "name": "stdout",
     "output_type": "stream",
     "text": [
      "Enter a valid account id btw 0-9: 1\n",
      "\n",
      "Main Menu\n",
      "1: check balance\n",
      "2: withdraw\n",
      "3: deposit\n",
      "4: exit \n",
      "Enter a choice: 4\n",
      "Enter a valid account id btw 0-9: 3\n",
      "\n",
      "Main Menu\n",
      "1: check balance\n",
      "2: withdraw\n",
      "3: deposit\n",
      "4: exit \n",
      "Enter a choice: 1\n",
      "Your account balance is $100.0\n",
      "\n",
      "Main Menu\n"
     ]
    },
    {
     "ename": "KeyboardInterrupt",
     "evalue": "Interrupted by user",
     "output_type": "error",
     "traceback": [
      "\u001b[1;31m---------------------------------------------------------------------------\u001b[0m",
      "\u001b[1;31mKeyboardInterrupt\u001b[0m                         Traceback (most recent call last)",
      "\u001b[1;32m~\\AppData\\Local\\Temp\\ipykernel_12228\\3694103956.py\u001b[0m in \u001b[0;36m<module>\u001b[1;34m\u001b[0m\n\u001b[0;32m     28\u001b[0m         \u001b[0mmainMenu\u001b[0m\u001b[1;33m(\u001b[0m\u001b[0mid\u001b[0m\u001b[1;33m,\u001b[0m \u001b[0maccounts\u001b[0m\u001b[1;33m)\u001b[0m\u001b[1;33m\u001b[0m\u001b[1;33m\u001b[0m\u001b[0m\n\u001b[0;32m     29\u001b[0m \u001b[1;33m\u001b[0m\u001b[0m\n\u001b[1;32m---> 30\u001b[1;33m \u001b[0mmain\u001b[0m\u001b[1;33m(\u001b[0m\u001b[1;33m)\u001b[0m\u001b[1;33m\u001b[0m\u001b[1;33m\u001b[0m\u001b[0m\n\u001b[0m",
      "\u001b[1;32m~\\AppData\\Local\\Temp\\ipykernel_12228\\3694103956.py\u001b[0m in \u001b[0;36mmain\u001b[1;34m()\u001b[0m\n\u001b[0;32m     26\u001b[0m         \u001b[0mid\u001b[0m \u001b[1;33m=\u001b[0m \u001b[0mint\u001b[0m\u001b[1;33m(\u001b[0m\u001b[0minput\u001b[0m\u001b[1;33m(\u001b[0m\u001b[1;34m\"Pls enter a valid account id\\nEnter a valid id btw 0-9: \"\u001b[0m\u001b[1;33m)\u001b[0m\u001b[1;33m)\u001b[0m\u001b[1;33m\u001b[0m\u001b[1;33m\u001b[0m\u001b[0m\n\u001b[0;32m     27\u001b[0m     \u001b[1;32melse\u001b[0m\u001b[1;33m:\u001b[0m\u001b[1;33m\u001b[0m\u001b[1;33m\u001b[0m\u001b[0m\n\u001b[1;32m---> 28\u001b[1;33m         \u001b[0mmainMenu\u001b[0m\u001b[1;33m(\u001b[0m\u001b[0mid\u001b[0m\u001b[1;33m,\u001b[0m \u001b[0maccounts\u001b[0m\u001b[1;33m)\u001b[0m\u001b[1;33m\u001b[0m\u001b[1;33m\u001b[0m\u001b[0m\n\u001b[0m\u001b[0;32m     29\u001b[0m \u001b[1;33m\u001b[0m\u001b[0m\n\u001b[0;32m     30\u001b[0m \u001b[0mmain\u001b[0m\u001b[1;33m(\u001b[0m\u001b[1;33m)\u001b[0m\u001b[1;33m\u001b[0m\u001b[1;33m\u001b[0m\u001b[0m\n",
      "\u001b[1;32m~\\AppData\\Local\\Temp\\ipykernel_12228\\3694103956.py\u001b[0m in \u001b[0;36mmainMenu\u001b[1;34m(id, accounts)\u001b[0m\n\u001b[0;32m     15\u001b[0m \u001b[1;33m\u001b[0m\u001b[0m\n\u001b[0;32m     16\u001b[0m         \u001b[1;32melif\u001b[0m \u001b[0mchoice\u001b[0m \u001b[1;33m==\u001b[0m\u001b[1;36m4\u001b[0m\u001b[1;33m:\u001b[0m\u001b[1;33m\u001b[0m\u001b[1;33m\u001b[0m\u001b[0m\n\u001b[1;32m---> 17\u001b[1;33m             \u001b[0mmain\u001b[0m\u001b[1;33m(\u001b[0m\u001b[1;33m)\u001b[0m\u001b[1;33m\u001b[0m\u001b[1;33m\u001b[0m\u001b[0m\n\u001b[0m\u001b[0;32m     18\u001b[0m \u001b[1;33m\u001b[0m\u001b[0m\n\u001b[0;32m     19\u001b[0m         \u001b[1;32melse\u001b[0m\u001b[1;33m:\u001b[0m\u001b[1;33m\u001b[0m\u001b[1;33m\u001b[0m\u001b[0m\n",
      "\u001b[1;32m~\\AppData\\Local\\Temp\\ipykernel_12228\\3694103956.py\u001b[0m in \u001b[0;36mmain\u001b[1;34m()\u001b[0m\n\u001b[0;32m     26\u001b[0m         \u001b[0mid\u001b[0m \u001b[1;33m=\u001b[0m \u001b[0mint\u001b[0m\u001b[1;33m(\u001b[0m\u001b[0minput\u001b[0m\u001b[1;33m(\u001b[0m\u001b[1;34m\"Pls enter a valid account id\\nEnter a valid id btw 0-9: \"\u001b[0m\u001b[1;33m)\u001b[0m\u001b[1;33m)\u001b[0m\u001b[1;33m\u001b[0m\u001b[1;33m\u001b[0m\u001b[0m\n\u001b[0;32m     27\u001b[0m     \u001b[1;32melse\u001b[0m\u001b[1;33m:\u001b[0m\u001b[1;33m\u001b[0m\u001b[1;33m\u001b[0m\u001b[0m\n\u001b[1;32m---> 28\u001b[1;33m         \u001b[0mmainMenu\u001b[0m\u001b[1;33m(\u001b[0m\u001b[0mid\u001b[0m\u001b[1;33m,\u001b[0m \u001b[0maccounts\u001b[0m\u001b[1;33m)\u001b[0m\u001b[1;33m\u001b[0m\u001b[1;33m\u001b[0m\u001b[0m\n\u001b[0m\u001b[0;32m     29\u001b[0m \u001b[1;33m\u001b[0m\u001b[0m\n\u001b[0;32m     30\u001b[0m \u001b[0mmain\u001b[0m\u001b[1;33m(\u001b[0m\u001b[1;33m)\u001b[0m\u001b[1;33m\u001b[0m\u001b[1;33m\u001b[0m\u001b[0m\n",
      "\u001b[1;32m~\\AppData\\Local\\Temp\\ipykernel_12228\\3694103956.py\u001b[0m in \u001b[0;36mmainMenu\u001b[1;34m(id, accounts)\u001b[0m\n\u001b[0;32m      2\u001b[0m     \u001b[1;32mwhile\u001b[0m \u001b[1;32mTrue\u001b[0m\u001b[1;33m:\u001b[0m\u001b[1;33m\u001b[0m\u001b[1;33m\u001b[0m\u001b[0m\n\u001b[0;32m      3\u001b[0m         \u001b[0mprint\u001b[0m\u001b[1;33m(\u001b[0m\u001b[1;34m\"\\nMain Menu\"\u001b[0m\u001b[1;33m)\u001b[0m\u001b[1;33m\u001b[0m\u001b[1;33m\u001b[0m\u001b[0m\n\u001b[1;32m----> 4\u001b[1;33m         \u001b[0mchoice\u001b[0m \u001b[1;33m=\u001b[0m \u001b[0mint\u001b[0m\u001b[1;33m(\u001b[0m\u001b[0minput\u001b[0m\u001b[1;33m(\u001b[0m\u001b[1;34m\"1: check balance\\n2: withdraw\\n3: deposit\\n4: exit \\nEnter a choice: \"\u001b[0m\u001b[1;33m)\u001b[0m\u001b[1;33m)\u001b[0m\u001b[1;33m\u001b[0m\u001b[1;33m\u001b[0m\u001b[0m\n\u001b[0m\u001b[0;32m      5\u001b[0m         \u001b[1;32mif\u001b[0m \u001b[0mchoice\u001b[0m \u001b[1;33m==\u001b[0m \u001b[1;36m1\u001b[0m\u001b[1;33m:\u001b[0m\u001b[1;33m\u001b[0m\u001b[1;33m\u001b[0m\u001b[0m\n\u001b[0;32m      6\u001b[0m             \u001b[0mprint\u001b[0m\u001b[1;33m(\u001b[0m\u001b[1;34m\"Your account balance is ${}\"\u001b[0m\u001b[1;33m.\u001b[0m\u001b[0mformat\u001b[0m\u001b[1;33m(\u001b[0m\u001b[0maccounts\u001b[0m\u001b[1;33m[\u001b[0m\u001b[0mid\u001b[0m\u001b[1;33m]\u001b[0m\u001b[1;33m.\u001b[0m\u001b[0mgetBalance\u001b[0m\u001b[1;33m(\u001b[0m\u001b[1;33m)\u001b[0m\u001b[1;33m)\u001b[0m\u001b[1;33m)\u001b[0m\u001b[1;33m\u001b[0m\u001b[1;33m\u001b[0m\u001b[0m\n",
      "\u001b[1;32m~\\anaconda3\\lib\\site-packages\\ipykernel\\kernelbase.py\u001b[0m in \u001b[0;36mraw_input\u001b[1;34m(self, prompt)\u001b[0m\n\u001b[0;32m   1175\u001b[0m                 \u001b[1;34m\"raw_input was called, but this frontend does not support input requests.\"\u001b[0m\u001b[1;33m\u001b[0m\u001b[1;33m\u001b[0m\u001b[0m\n\u001b[0;32m   1176\u001b[0m             )\n\u001b[1;32m-> 1177\u001b[1;33m         return self._input_request(\n\u001b[0m\u001b[0;32m   1178\u001b[0m             \u001b[0mstr\u001b[0m\u001b[1;33m(\u001b[0m\u001b[0mprompt\u001b[0m\u001b[1;33m)\u001b[0m\u001b[1;33m,\u001b[0m\u001b[1;33m\u001b[0m\u001b[1;33m\u001b[0m\u001b[0m\n\u001b[0;32m   1179\u001b[0m             \u001b[0mself\u001b[0m\u001b[1;33m.\u001b[0m\u001b[0m_parent_ident\u001b[0m\u001b[1;33m[\u001b[0m\u001b[1;34m\"shell\"\u001b[0m\u001b[1;33m]\u001b[0m\u001b[1;33m,\u001b[0m\u001b[1;33m\u001b[0m\u001b[1;33m\u001b[0m\u001b[0m\n",
      "\u001b[1;32m~\\anaconda3\\lib\\site-packages\\ipykernel\\kernelbase.py\u001b[0m in \u001b[0;36m_input_request\u001b[1;34m(self, prompt, ident, parent, password)\u001b[0m\n\u001b[0;32m   1217\u001b[0m             \u001b[1;32mexcept\u001b[0m \u001b[0mKeyboardInterrupt\u001b[0m\u001b[1;33m:\u001b[0m\u001b[1;33m\u001b[0m\u001b[1;33m\u001b[0m\u001b[0m\n\u001b[0;32m   1218\u001b[0m                 \u001b[1;31m# re-raise KeyboardInterrupt, to truncate traceback\u001b[0m\u001b[1;33m\u001b[0m\u001b[1;33m\u001b[0m\u001b[0m\n\u001b[1;32m-> 1219\u001b[1;33m                 \u001b[1;32mraise\u001b[0m \u001b[0mKeyboardInterrupt\u001b[0m\u001b[1;33m(\u001b[0m\u001b[1;34m\"Interrupted by user\"\u001b[0m\u001b[1;33m)\u001b[0m \u001b[1;32mfrom\u001b[0m \u001b[1;32mNone\u001b[0m\u001b[1;33m\u001b[0m\u001b[1;33m\u001b[0m\u001b[0m\n\u001b[0m\u001b[0;32m   1220\u001b[0m             \u001b[1;32mexcept\u001b[0m \u001b[0mException\u001b[0m\u001b[1;33m:\u001b[0m\u001b[1;33m\u001b[0m\u001b[1;33m\u001b[0m\u001b[0m\n\u001b[0;32m   1221\u001b[0m                 \u001b[0mself\u001b[0m\u001b[1;33m.\u001b[0m\u001b[0mlog\u001b[0m\u001b[1;33m.\u001b[0m\u001b[0mwarning\u001b[0m\u001b[1;33m(\u001b[0m\u001b[1;34m\"Invalid Message:\"\u001b[0m\u001b[1;33m,\u001b[0m \u001b[0mexc_info\u001b[0m\u001b[1;33m=\u001b[0m\u001b[1;32mTrue\u001b[0m\u001b[1;33m)\u001b[0m\u001b[1;33m\u001b[0m\u001b[1;33m\u001b[0m\u001b[0m\n",
      "\u001b[1;31mKeyboardInterrupt\u001b[0m: Interrupted by user"
     ]
    }
   ],
   "source": [
    "def mainMenu(id, accounts):\n",
    "    while True:\n",
    "        print(\"\\nMain Menu\")\n",
    "        choice = int(input(\"1: check balance\\n2: withdraw\\n3: deposit\\n4: exit \\nEnter a choice: \"))\n",
    "        if choice == 1:\n",
    "            print(\"Your account balance is ${}\".format(accounts[id].getBalance()))\n",
    "            \n",
    "        elif choice ==2:\n",
    "            amountToWithdraw = eval(input(\"Enter an amount to widthraw: \"))\n",
    "            accounts[id].withdrawal(amountToWithdraw)\n",
    "            \n",
    "        elif choice ==3:\n",
    "            amountToDeposit = eval(input(\"Enter an amount to deposit: \"))\n",
    "            accounts[id].deposit(amountToDeposit)\n",
    "\n",
    "        elif choice ==4:\n",
    "            main()\n",
    "            \n",
    "        else:\n",
    "            print(\"Not a valid choice number\")      \n",
    "                               \n",
    "def main():\n",
    "    accounts = [Account(id) for id in range(10)]\n",
    "    id = int(input(\"Enter a valid account id btw 0-9: \"))\n",
    "    while  not 0<=id<=9:\n",
    "        id = int(input(\"Pls enter a valid account id\\nEnter a valid id btw 0-9: \"))\n",
    "    else:\n",
    "        mainMenu(id, accounts) \n",
    "              \n",
    "main()"
   ]
  },
  {
   "cell_type": "code",
   "execution_count": 46,
   "id": "658e0c0c",
   "metadata": {},
   "outputs": [],
   "source": [
    "from tkinter import *\n",
    "from tkinter import messagebox\n",
    "class GuessBirthday:\n",
    "    def __init__(self):\n",
    "        self.__dates = [\n",
    "        [ [ 1, 3, 5, 7],\n",
    "          [9, 11, 13, 15],\n",
    "          [17, 19, 21, 23],\n",
    "          [25, 27, 29, 31]],\n",
    "        [ [ 2, 3, 6, 7],\n",
    "          [10, 11, 14, 15],\n",
    "          [18, 19, 22, 23],\n",
    "          [26, 27, 30, 31]],\n",
    "        [ [ 4, 5, 6, 7],\n",
    "          [12, 13, 14, 15],\n",
    "          [20, 21, 22, 23],\n",
    "          [28, 29, 30, 31]],\n",
    "        [ [ 8, 9, 10, 11],\n",
    "          [12, 13, 14, 15],\n",
    "          [24, 25, 26, 27],\n",
    "          [28, 29, 30, 31]],\n",
    "        [ [16, 17, 18, 19],\n",
    "          [20, 21, 22, 23],\n",
    "          [24, 25, 26, 27],\n",
    "          [28, 29, 30, 31]]\n",
    "        ]\n",
    "        win = Tk()\n",
    "        win.title(\"Guess Birthday\")\n",
    "        frame1 = Frame(win)\n",
    "        frame1.pack()\n",
    "        Label(frame1, text=\"check the boxes if your Birthady is in these sets\", font=(\"constantia\", 10, \"bold\")).pack()\n",
    "        self.__answers = [IntVar() for i in range(len(self.__dates))]\n",
    "        for i in range(len(self.__dates)):\n",
    "            frame = Frame(win, bd=2, relief=SUNKEN)\n",
    "            frame.pack(side=LEFT)\n",
    "            for j in range(len(self.__dates[i])):\n",
    "                dates =\"{:3d} {:3d} {:3d} {:3d}\".format(self.__dates[i][j][0], self.__dates[i][j][1], self.__dates[i][j][2], self.__dates[i][j][3])\n",
    "                Label(frame, text=dates, justify=CENTER, anchor=CENTER).pack()\n",
    "            Checkbutton(frame, variable=self.__answers[i], onvalue=1, offvalue=0, anchor=W).pack(side=LEFT)\n",
    "        frame2 = Frame(win, relief=GROOVE)\n",
    "        frame2.pack()\n",
    "        Button(frame2, text=\"Guess Birthday\", command=self.guessBirthday, padx=5, pady=5, justify=CENTER, anchor=\"s\").pack()            \n",
    "        win.mainloop()\n",
    "        \n",
    "    def guessBirthday(self):\n",
    "        birthdate = 0\n",
    "        for i in range(len(self.__answers)):\n",
    "            if self.__answers[i].get() == 1:\n",
    "                birthdate += self.__dates[i][0][0]\n",
    "        messagebox.showinfo(title=\"Found it\", message=f\"Your birthday is {birthdate}\")\n",
    "if __name__ == \"__main__\":\n",
    "    GuessBirthday()"
   ]
  },
  {
   "cell_type": "code",
   "execution_count": 3,
   "id": "8c95dce1",
   "metadata": {},
   "outputs": [
    {
     "name": "stdout",
     "output_type": "stream",
     "text": [
      "16\n"
     ]
    }
   ],
   "source": [
    "def age(a):\n",
    "    return a\n",
    "x = lambda : age(16)\n",
    "print(x())"
   ]
  },
  {
   "cell_type": "code",
   "execution_count": null,
   "id": "e570ffd6",
   "metadata": {},
   "outputs": [],
   "source": []
  }
 ],
 "metadata": {
  "kernelspec": {
   "display_name": "Python 3 (ipykernel)",
   "language": "python",
   "name": "python3"
  },
  "language_info": {
   "codemirror_mode": {
    "name": "ipython",
    "version": 3
   },
   "file_extension": ".py",
   "mimetype": "text/x-python",
   "name": "python",
   "nbconvert_exporter": "python",
   "pygments_lexer": "ipython3",
   "version": "3.9.13"
  }
 },
 "nbformat": 4,
 "nbformat_minor": 5
}
