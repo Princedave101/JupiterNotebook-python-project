{
 "cells": [
  {
   "cell_type": "code",
   "execution_count": 1,
   "id": "c7ed0859",
   "metadata": {},
   "outputs": [
    {
     "ename": "SyntaxError",
     "evalue": "invalid syntax (437057584.py, line 9)",
     "output_type": "error",
     "traceback": [
      "\u001b[1;36m  File \u001b[1;32m\"C:\\Users\\DAVID\\AppData\\Local\\Temp\\ipykernel_4468\\437057584.py\"\u001b[1;36m, line \u001b[1;32m9\u001b[0m\n\u001b[1;33m    if r.status_codes <400\u001b[0m\n\u001b[1;37m                          ^\u001b[0m\n\u001b[1;31mSyntaxError\u001b[0m\u001b[1;31m:\u001b[0m invalid syntax\n"
     ]
    }
   ],
   "source": [
    "from bs4 import BeautifulSoup\n",
    "import requests as r\n",
    "import re\n",
    "\n",
    "URL = \"https://www.thenetnaija.net//videos//movies\"\n",
    "def main():\n",
    "    try:\n",
    "        response = r.get(URL)\n",
    "        if r.status_codes <400:\n",
    "            html_file = response.text\n",
    "    except Excetion as ex:\n",
    "        \n",
    "        \n",
    "        \n",
    "    \n",
    "\n",
    "if __name__ ==\"__main__\":\n",
    "    main()"
   ]
  },
  {
   "cell_type": "code",
   "execution_count": null,
   "id": "e789e839",
   "metadata": {},
   "outputs": [],
   "source": []
  }
 ],
 "metadata": {
  "kernelspec": {
   "display_name": "Python 3 (ipykernel)",
   "language": "python",
   "name": "python3"
  },
  "language_info": {
   "codemirror_mode": {
    "name": "ipython",
    "version": 3
   },
   "file_extension": ".py",
   "mimetype": "text/x-python",
   "name": "python",
   "nbconvert_exporter": "python",
   "pygments_lexer": "ipython3",
   "version": "3.9.13"
  }
 },
 "nbformat": 4,
 "nbformat_minor": 5
}
